{
 "cells": [
  {
   "cell_type": "markdown",
   "metadata": {},
   "source": [
    "Corner detection is a fundamental operation in computer vision and image processing, and it is used to identify points in an image where the brightness or intensity changes abruptly. Corners are important features in image analysis because they provide useful information about the shape and structure of objects in an image.\n",
    "\n",
    "The `Harris Corner Detection algorithm` is a widely used method for corner detection that was introduced by Chris Harris and Mike Stephens in 1988. The algorithm uses a mathematical formula to compute a \"corner response\" function for each pixel in an image, which measures the likelihood of the pixel being a corner.\n",
    "\n",
    "Throughout this homework, you will learn how to implement the `Harris Corner Detection` algorithm, and you will apply it to real-world images to detect corners and `extract features`. \n",
    "\n",
    "By completing this homework, you will gain a solid understanding of how to use Python and OpenCV for image processing and computer vision tasks, and you will have the skills to apply the Harris Corner Detection algorithm to a variety of practical applications. Let's get started!"
   ]
  },
  {
   "cell_type": "markdown",
   "metadata": {
    "nbgrader": {
     "grade": false,
     "grade_id": "cell-71d16ae532917ab1",
     "locked": true,
     "schema_version": 3,
     "solution": false,
     "task": false
    }
   },
   "source": [
    "### Dependencies \n",
    "Please run the following block first if you have installed the necessary dependencies."
   ]
  },
  {
   "cell_type": "code",
   "execution_count": null,
   "metadata": {
    "nbgrader": {
     "grade": false,
     "grade_id": "cell-7d5b01c15ac48496",
     "locked": true,
     "schema_version": 3,
     "solution": false,
     "task": false
    }
   },
   "outputs": [],
   "source": [
    "!pip install numpy\n",
    "!pip install opencv-contrib-python-headless==4.7.0.68\n",
    "!pip install matplotlib\n",
    "!pip install scikit-image"
   ]
  },
  {
   "cell_type": "markdown",
   "metadata": {
    "nbgrader": {
     "grade": false,
     "grade_id": "cell-f637b6e698f6b5ab",
     "locked": true,
     "schema_version": 3,
     "solution": false,
     "task": false
    }
   },
   "source": [
    "### Import the 3rd party libraries"
   ]
  },
  {
   "cell_type": "code",
   "execution_count": null,
   "metadata": {
    "nbgrader": {
     "grade": false,
     "grade_id": "cell-1200ce2f54ca3307",
     "locked": true,
     "schema_version": 3,
     "solution": false,
     "task": false
    }
   },
   "outputs": [],
   "source": [
    "# Numpy offers comprehensive mathematical functions in Python\n",
    "import numpy as np\n",
    "\n",
    "# OpenCV provides a optimized tools for Computer Vision.\n",
    "import cv2 as cv\n",
    "\n",
    "# Matplotlib is a library for creating visualizations in Python.\n",
    "from matplotlib import pyplot as plt"
   ]
  },
  {
   "cell_type": "markdown",
   "metadata": {
    "nbgrader": {
     "grade": false,
     "grade_id": "cell-861b400ec522cf34",
     "locked": true,
     "schema_version": 3,
     "solution": false,
     "task": false
    }
   },
   "source": [
    "### Task 1: OpenCV version of Harris Corner Detection\n",
    "OpenCV has the function `cv.cornerHarris()` for this purpose. Its arguments are:\n",
    "\n",
    "- img - Input image. It should be grayscale and float32 type.\n",
    "- blockSize - It is the size of neighbourhood considered for corner detection\n",
    "- ksize - Aperture parameter of the Sobel derivative used.\n",
    "- k - Harris detector free parameter in the equation.\n",
    "\n",
    "Steps:\n",
    "1. load the image from `\"example/img.jpg\"`, convert its channel into RGB\n",
    "2. get the grayscale image\n",
    "3. use harris corner detector to get corner response, blocksize = 2, kernel size = 3, Harris detector free parameter k = 0.02\n",
    "4. get the coordinates of corner with reponse larger than 0.05 of the maximum response\n",
    "5. draw the corner on a copy of the loaded image, using `cv.circle()`\n",
    "\n",
    "Variables:\n",
    "1. `src_img` : RGB source image\n",
    "2. `gray` : grayscale image\n",
    "3. `corner_response` : result of harris corner detector\n",
    "4. `corners` : corner points coordinates, which is an 2 element tuple, first element is the y coordinates and the second element is the x coordinates\n",
    "```\n",
    "([y1,y2,...,yn],[x1,x2,...,xn])\n",
    "```\n",
    "5. `result image` : presentation of corners (step 5)\n",
    "\n",
    "Hints:\n",
    "1. Function [cv.cornerHarris](https://docs.opencv.org/4.x/dd/d1a/group__imgproc__feature.html#gac1fc3598018010880e370e2f709b4345) to implement harris corner detection\n",
    "2. Function [np.where](https://numpy.org/doc/stable/reference/generated/numpy.where.html) to get coordinates of points which fit the condition."
   ]
  },
  {
   "cell_type": "code",
   "execution_count": null,
   "metadata": {
    "nbgrader": {
     "grade": false,
     "grade_id": "cell-2b80d895538650e5",
     "locked": false,
     "schema_version": 3,
     "solution": true,
     "task": false
    }
   },
   "outputs": [],
   "source": [
    "### BEGIN SOLUTION\n",
    "\n",
    "### END SOLUTION\n",
    "# display\n",
    "plt.figure(figsize=(16, 8), dpi=91)\n",
    "ax1 = plt.subplot(1,2,1)\n",
    "plt.imshow(src_img)\n",
    "plt.title(\"srcimg\")\n",
    "plt.subplot(1,2,2)\n",
    "plt.imshow(result_img)\n",
    "plt.title(\"corner\")\n",
    "plt.show()"
   ]
  },
  {
   "cell_type": "code",
   "execution_count": null,
   "metadata": {
    "nbgrader": {
     "grade": true,
     "grade_id": "cell-f7b139b140a9f554",
     "locked": true,
     "points": 1,
     "schema_version": 3,
     "solution": false,
     "task": false
    }
   },
   "outputs": [],
   "source": [
    "def public_test1():\n",
    "    try:\n",
    "        corner_response\n",
    "    except NameError:\n",
    "        print(\"[Error] Variable corner_response is not defined.\")\n",
    "        return False\n",
    "\n",
    "    try:\n",
    "        corners\n",
    "    except NameError:\n",
    "        print(\"[Error] Variable corners is not defined.\")\n",
    "        return False\n",
    "    \n",
    "    try:\n",
    "        len(corners) == 2\n",
    "    except:\n",
    "        print(\"[Error] The tuple corners should only have 2 elements.\")\n",
    "        return False\n",
    "    return True\n",
    "\n",
    "assert public_test1()"
   ]
  },
  {
   "cell_type": "markdown",
   "metadata": {
    "nbgrader": {
     "grade": false,
     "grade_id": "cell-2b2829885950e84a",
     "locked": true,
     "schema_version": 3,
     "solution": false,
     "task": false
    }
   },
   "source": [
    "### Task 2: Sobel Operator\n",
    "The Sobel operator is a popular edge detection algorithm used in computer vision and image processing. It calculates the gradient of the image intensity at each pixel location in the x and y direction and then combines them to produce an edge map.\n",
    "\n",
    "Steps:\n",
    "1. (See hint 1) calculate the gradient of `gray`, kernel size = 3\n",
    "\n",
    "Variables:\n",
    "1. `dx` : gradient in x direction\n",
    "2. `dy` : gradient in y direction\n",
    "\n",
    "Hints:\n",
    "1. Function [cv.Sobel](https://docs.opencv.org/4.x/d4/d86/group__imgproc__filter.html#gacea54f142e81b6758cb6f375ce782c8d) to calculates the image derivatives using an extended Sobel operator."
   ]
  },
  {
   "cell_type": "code",
   "execution_count": null,
   "metadata": {
    "nbgrader": {
     "grade": false,
     "grade_id": "cell-64d8a0061802da46",
     "locked": false,
     "schema_version": 3,
     "solution": true,
     "task": false
    }
   },
   "outputs": [],
   "source": [
    "### BEGIN SOLUTION\n",
    "\n",
    "### END SOLUTION\n",
    "# display\n",
    "plt.figure(figsize=(16, 8), dpi=91)\n",
    "ax1 = plt.subplot(1,2,1)\n",
    "plt.imshow(dx,cmap='gray')\n",
    "plt.title(\"dx\")\n",
    "plt.subplot(1,2,2)\n",
    "plt.imshow(dy,cmap='gray')\n",
    "plt.title(\"dy\")\n",
    "plt.show()"
   ]
  },
  {
   "cell_type": "code",
   "execution_count": null,
   "metadata": {
    "nbgrader": {
     "grade": true,
     "grade_id": "cell-0fc435141bfb7361",
     "locked": true,
     "points": 1,
     "schema_version": 3,
     "solution": false,
     "task": false
    }
   },
   "outputs": [],
   "source": [
    "def public_test2():\n",
    "    try:\n",
    "        dx\n",
    "    except NameError:\n",
    "        print(\"[Error] Variable dx is not defined.\")\n",
    "        return False\n",
    "\n",
    "    try:\n",
    "        dy\n",
    "    except NameError:\n",
    "        print(\"[Error] Variable dy is not defined.\")\n",
    "        return False\n",
    "    return True\n",
    "\n",
    "assert public_test2()"
   ]
  },
  {
   "cell_type": "markdown",
   "metadata": {
    "nbgrader": {
     "grade": false,
     "grade_id": "cell-9be00adf0d8380df",
     "locked": true,
     "schema_version": 3,
     "solution": false,
     "task": false
    }
   },
   "source": [
    "### Task 3: Harris Matrix\n",
    "The Harris matrix is a 2x2 matrix that is calculated for each pixel in the image. It is defined as:\n",
    "$$\n",
    "\\begin{equation*}\n",
    "    \\begin{aligned}\n",
    "        M & = \\left[\n",
    "            \\begin{array}{cc}\n",
    "                \\sum_S{d_x^2} & \\sum_S{d_x d_y} \\\\\n",
    "                \\sum_S{d_x d_y} & \\sum_S{d_y^2}\n",
    "            \\end{array}\n",
    "        \\right]\n",
    "    \\end{aligned}\n",
    "\\end{equation*}\n",
    "$$\n",
    "where $S$ is a blockSize × blockSize neighborhood.\n",
    "\n",
    "Steps:\n",
    "1. (See Hint 1) get the eigenvalues of the Harris Matrix of `gray`, blocksize = 2, kernel size = 3\n",
    "\n",
    "Variables:\n",
    "1. `lambda1` : matrix of first eigenvalue\n",
    "2. `lambda2` : matrix of second eigenvalue\n",
    "\n",
    "\n",
    "Hints:\n",
    "1. Function [cv.cornerEigenValsAndVecs](https://docs.opencv.org/4.x/dd/d1a/group__imgproc__feature.html#ga4055896d9ef77dd3cacf2c5f60e13f1c) to calculate eigenvalues and eigenvectors of image blocks for corner detection."
   ]
  },
  {
   "cell_type": "code",
   "execution_count": null,
   "metadata": {
    "nbgrader": {
     "grade": false,
     "grade_id": "cell-281e3aa3a724e98b",
     "locked": false,
     "schema_version": 3,
     "solution": true,
     "task": false
    }
   },
   "outputs": [],
   "source": [
    "### BEGIN SOLUTION\n",
    "\n",
    "### END SOLUTION"
   ]
  },
  {
   "cell_type": "code",
   "execution_count": null,
   "metadata": {
    "nbgrader": {
     "grade": true,
     "grade_id": "cell-793cafa334c99ee9",
     "locked": true,
     "points": 1,
     "schema_version": 3,
     "solution": false,
     "task": false
    }
   },
   "outputs": [],
   "source": [
    "def public_test3():\n",
    "    try:\n",
    "        lambda1\n",
    "    except NameError:\n",
    "        print(\"[Error] Variable lambda1 is not defined.\")\n",
    "        return False\n",
    "\n",
    "    try:\n",
    "        lambda2\n",
    "    except NameError:\n",
    "        print(\"[Error] Variable lambda2 is not defined.\")\n",
    "        return False\n",
    "    return True\n",
    "\n",
    "assert public_test3()"
   ]
  },
  {
   "cell_type": "markdown",
   "metadata": {
    "nbgrader": {
     "grade": false,
     "grade_id": "cell-e69584c9b3c77660",
     "locked": true,
     "schema_version": 3,
     "solution": false,
     "task": false
    }
   },
   "source": [
    "### Task 4: Corner response function\n",
    "The corner response function is define in the form:\n",
    "$$\n",
    "\\begin{equation*}\n",
    "    \\begin{aligned}\n",
    "        H = det(M) - k (trace(M))^2\n",
    "    \\end{aligned}\n",
    "\\end{equation*}\n",
    "$$\n",
    "where k is the Harris detector free parameter. It can also be written in the form\n",
    "$$\n",
    "\\begin{equation*}\n",
    "    \\begin{aligned}\n",
    "        H = (1-2k)\\lambda_1\\lambda_2 - k (\\lambda_1^2 + \\lambda_2^2)\n",
    "    \\end{aligned}\n",
    "\\end{equation*}\n",
    "$$\n",
    "\n",
    "Steps:\n",
    "1. calculate the corner response H using k = 0.02\n",
    "\n",
    "Variables:\n",
    "1. `H` : corner response\n",
    "\n",
    "Hints:\n",
    "1. Function [cv.cornerHarris]() to implement harris corner detection"
   ]
  },
  {
   "cell_type": "code",
   "execution_count": null,
   "metadata": {
    "nbgrader": {
     "grade": false,
     "grade_id": "cell-a86a3e85c927495d",
     "locked": false,
     "schema_version": 3,
     "solution": true,
     "task": false
    }
   },
   "outputs": [],
   "source": [
    "### BEGIN SOLUTION\n",
    "\n",
    "### END SOLUTION"
   ]
  },
  {
   "cell_type": "code",
   "execution_count": null,
   "metadata": {
    "nbgrader": {
     "grade": true,
     "grade_id": "cell-c5bb3b3c916eadf0",
     "locked": true,
     "points": 1,
     "schema_version": 3,
     "solution": false,
     "task": false
    }
   },
   "outputs": [],
   "source": [
    "def public_test4():\n",
    "    try:\n",
    "        H\n",
    "    except NameError:\n",
    "        print(\"[Error] Variable H is not defined.\")\n",
    "        return False\n",
    "\n",
    "    return True\n",
    "\n",
    "assert public_test4()"
   ]
  },
  {
   "cell_type": "markdown",
   "metadata": {
    "nbgrader": {
     "grade": false,
     "grade_id": "cell-c803e22c79906f44",
     "locked": true,
     "schema_version": 3,
     "solution": false,
     "task": false
    }
   },
   "source": [
    "### Integration\n",
    "Now you can use what you got from the previous tasks to detect corner on your own. You can compare your result with the OpenCV one. (This part won't be tested)\n",
    "\n",
    "Variables:\n",
    "1. `result_img2` : your own result image"
   ]
  },
  {
   "cell_type": "code",
   "execution_count": null,
   "metadata": {
    "nbgrader": {
     "grade": true,
     "grade_id": "cell-241b72250d01a7fc",
     "locked": false,
     "points": 0,
     "schema_version": 3,
     "solution": true,
     "task": false
    }
   },
   "outputs": [],
   "source": [
    "### BEGIN SOLUTION\n",
    "\n",
    "### END SOLUTION\n",
    "# display\n",
    "plt.figure(figsize=(16, 8), dpi=91)\n",
    "ax1 = plt.subplot(1,2,1)\n",
    "plt.imshow(result_img)\n",
    "plt.title(\"OpenCV\")\n",
    "plt.subplot(1,2,2)\n",
    "plt.imshow(result_img2)\n",
    "plt.title(\"Your Corner Detector\")\n",
    "plt.show()"
   ]
  }
 ],
 "metadata": {
  "celltoolbar": "Create Assignment",
  "kernelspec": {
   "display_name": "Python 3 (ipykernel)",
   "language": "python",
   "name": "python3"
  },
  "language_info": {
   "codemirror_mode": {
    "name": "ipython",
    "version": 3
   },
   "file_extension": ".py",
   "mimetype": "text/x-python",
   "name": "python",
   "nbconvert_exporter": "python",
   "pygments_lexer": "ipython3",
   "version": "3.10.9"
  },
  "vscode": {
   "interpreter": {
    "hash": "458f205ffd5e40825905a0f61668a237cc8567d50e3d1f4fd1f4b32d6a4b3c24"
   }
  }
 },
 "nbformat": 4,
 "nbformat_minor": 2
}
