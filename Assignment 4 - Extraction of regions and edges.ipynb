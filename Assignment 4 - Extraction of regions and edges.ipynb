{
 "cells": [
  {
   "cell_type": "markdown",
   "id": "cd2761d4",
   "metadata": {
    "nbgrader": {
     "grade": false,
     "grade_id": "cell-727cf0719c772dff",
     "locked": true,
     "schema_version": 3,
     "solution": false,
     "task": false
    }
   },
   "source": [
    "### Dependencies \n",
    "Please run the following block first if you have installed the necessary dependencies."
   ]
  },
  {
   "cell_type": "code",
   "execution_count": null,
   "id": "fa85ff8c",
   "metadata": {
    "nbgrader": {
     "grade": false,
     "grade_id": "cell-5b37cfe5e1d35b34",
     "locked": true,
     "schema_version": 3,
     "solution": false,
     "task": false
    }
   },
   "outputs": [],
   "source": [
    "!pip install numpy\n",
    "!pip install opencv-contrib-python-headless==4.7.0.68\n",
    "!pip install matplotlib\n",
    "!pip install scikit-image"
   ]
  },
  {
   "cell_type": "markdown",
   "id": "954c09ab",
   "metadata": {
    "nbgrader": {
     "grade": false,
     "grade_id": "cell-3e9a180ae9713bd9",
     "locked": true,
     "schema_version": 3,
     "solution": false,
     "task": false
    }
   },
   "source": [
    "### Import the 3rd party libraries"
   ]
  },
  {
   "cell_type": "code",
   "execution_count": null,
   "id": "812fe4b2",
   "metadata": {
    "nbgrader": {
     "grade": false,
     "grade_id": "cell-2088648c232486e2",
     "locked": true,
     "schema_version": 3,
     "solution": false,
     "task": false
    }
   },
   "outputs": [],
   "source": [
    "# Numpy offers comprehensive mathematical functions in Python\n",
    "import numpy as np\n",
    "\n",
    "# OpenCV provides a optimized tools for Computer Vision.\n",
    "import cv2 as cv\n",
    "\n",
    "# Matplotlib is a library for creating visualizations in Python.\n",
    "from matplotlib import pyplot as plt\n",
    "from matplotlib.backend_bases import MouseButton\n",
    "\n",
    "#Scikit-image offers segmentation method\n",
    "import skimage"
   ]
  },
  {
   "cell_type": "markdown",
   "id": "1b8cd9d3",
   "metadata": {
    "nbgrader": {
     "grade": false,
     "grade_id": "cell-1e26ec32e1bf2e37",
     "locked": true,
     "schema_version": 3,
     "solution": false,
     "task": false
    }
   },
   "source": [
    "### Task 1:Region Growing\n",
    "In this task you will use region growing algorithm to segment the river part in the given image.\n",
    "\n",
    "Steps:\n",
    "1. load the image from `'example/image.tif'` and convert it into a RGB image and a grayscale image.\n",
    "2. Choose reasonable seeds from the image and save them in variable `seeds`.\n",
    "3. Use region growing method to segment the river part on the grayscale image. \n",
    "4. (Optional) Fulfill the river using closing operation with rectangular kernel of size 5x5.\n",
    "5. Save the river part in variable `river_1`.\n",
    "\n",
    "Variables:\n",
    "1. `gray_img` : grayscale image\n",
    "2. `rgb_img` : RGB image\n",
    "3. `seeds` : seed array, each element looks like `(row,col)`\n",
    "4. `river_1` : (uint8 ndarray with same shape of `src_img`) river segmentation result. River part should be set as 255, and the others should be 0.\n",
    "\n",
    "Hints:\n",
    "1. Function [skimage.segmentation.flood](https://scikit-image.org/docs/dev/api/skimage.segmentation.html#skimage.segmentation.flood) to use region growing algorithm.\n",
    "2. Since Function `skimage.segmentation.flood()` operates on single-channel images, we transform here the image to the grayscale space in order to flood pixels of similar intensity.\n",
    "3. You should try suitable parameter to get best reult, such as `tolerance`.\n",
    "4. Flood one time only takes one seed. In order to get better result, you could try to use many seeds to get many results, and then merge the results together.\n",
    "5. The result should looks like: (The view of matplotlib may be color inversed)\n",
    "![image](data:image/jpeg;base64,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)"
   ]
  },
  {
   "cell_type": "code",
   "execution_count": null,
   "id": "50bb0e04",
   "metadata": {
    "nbgrader": {
     "grade": false,
     "grade_id": "cell-9cf4bd1b55de564a",
     "locked": false,
     "schema_version": 3,
     "solution": true,
     "task": false
    }
   },
   "outputs": [],
   "source": [
    "%matplotlib inline\n",
    "\n",
    "### BEGIN SOLUTION\n",
    "\n",
    "### END SOLUTION\n",
    "plt.figure()\n",
    "plt.subplot(1,2,1)\n",
    "plt.imshow(rgb_img)\n",
    "plt.axis('off')\n",
    "plt.subplot(1,2,2)\n",
    "plt.imshow(river_1,cmap='binary')\n",
    "plt.axis('off')\n",
    "plt.show()"
   ]
  },
  {
   "cell_type": "code",
   "execution_count": null,
   "id": "445baf06",
   "metadata": {
    "nbgrader": {
     "grade": true,
     "grade_id": "cell-5760d737952e975d",
     "locked": true,
     "points": 1,
     "schema_version": 3,
     "solution": false,
     "task": false
    }
   },
   "outputs": [],
   "source": [
    "def public_test1():\n",
    "    try:\n",
    "        river_1\n",
    "    except NameError:\n",
    "        print(\"[Error] Variable var is not defined.\")\n",
    "        return False\n",
    "\n",
    "    try:\n",
    "        seeds\n",
    "    except NameError:\n",
    "        print(\"[Error] Variable seeds is not defined.\")\n",
    "        return False\n",
    "    \n",
    "    try:\n",
    "        len(seeds[0]) == 2\n",
    "    except:\n",
    "        print(\"[Error] The format of seed is wrong.\")\n",
    "        return False\n",
    "    return True\n",
    "\n",
    "assert public_test1()"
   ]
  },
  {
   "cell_type": "markdown",
   "id": "647721c5",
   "metadata": {
    "nbgrader": {
     "grade": false,
     "grade_id": "cell-6022c3e52444dcdb",
     "locked": true,
     "schema_version": 3,
     "solution": false,
     "task": false
    }
   },
   "source": [
    "### Task 2:Watershed Transformation\n",
    "In this task you will use watershed algorithm to segment the river and both riverbanks in the given image. In order to prevent `oversegmentation`, `cv.watershed()` in `OpenCV` implements one of the variants of watershed, non-parametric marker-based segmentation algorithm, described in [paper](https://ieeexplore.ieee.org/document/785528). Therefore, you should choose reasonable marker as parameter of `cv.watershed()`.\n",
    "\n",
    "Steps:\n",
    "1. load the image from `'example/image.tif'` and convert it into a RGB image.\n",
    "2. Use region growing method to segment both riverbanks, save the result in binary image(0 and 255).\n",
    "3. Using code in the assignment 3, get the middle line of `river_1`, save the result in binary image(0 and 255).\n",
    "4. Merge the result above into one binary image . \n",
    "5. Label the binary image. (Read Hints 1) \n",
    "6. Use watershed method to segment `src_img`. Save the result in `river_2`. The label in `river_2` should be 1,2,3 in order for left riverbank, river and right riverbank. The label of boundry should be -1.\n",
    "\n",
    "Variables:\n",
    "1. `river_2` : watershed result\n",
    "\n",
    "Hints:\n",
    "1. Function [cv.connectedComponents](https://docs.opencv.org/3.4/d3/dc0/group__imgproc__shape.html#gaedef8c7340499ca391d459122e51bef5) to computes the connected components labeled image of boolean image\n",
    "2. Function [cv.watershed](https://docs.opencv.org/4.x/d3/d47/group__imgproc__segmentation.html#ga3267243e4d3f95165d55a618c65ac6e1) to use watershed segmentation\n",
    "3. Check [tutorial 1](https://docs.opencv.org/3.4/d3/db4/tutorial_py_watershed.html) and [tutorial 2](https://docs.opencv.org/4.x/d2/dbd/tutorial_distance_transform.html) to understand how to use `cv.watershed`."
   ]
  },
  {
   "cell_type": "code",
   "execution_count": null,
   "id": "acecb6a7",
   "metadata": {
    "nbgrader": {
     "grade": false,
     "grade_id": "cell-5096773856b02656",
     "locked": false,
     "schema_version": 3,
     "solution": true,
     "task": false
    }
   },
   "outputs": [],
   "source": [
    "### BEGIN SOLUTION\n",
    "\n",
    "### END SOLUTION\n",
    "plt.figure()\n",
    "plt.imshow(rgb_img)\n",
    "plt.imshow(river_2, cmap=plt.cm.Set1_r, alpha=.5)\n",
    "plt.axis('off')\n",
    "plt.show()"
   ]
  },
  {
   "cell_type": "code",
   "execution_count": null,
   "id": "9a5c9d37",
   "metadata": {
    "nbgrader": {
     "grade": true,
     "grade_id": "cell-66750d6df8eba4d2",
     "locked": true,
     "points": 1,
     "schema_version": 3,
     "solution": false,
     "task": false
    }
   },
   "outputs": [],
   "source": [
    "def public_test2():\n",
    "    try:\n",
    "        river_2\n",
    "    except NameError:\n",
    "        print(\"[Error] Variable river_2 is not defined.\")\n",
    "        return False\n",
    "\n",
    "    try: \n",
    "        assert river_2[70,70] == 1 and river_2[300,120] == 2 and river_2[400,400] == 3\n",
    "    except: \n",
    "        print(\"[Error] Incorrcet markers number order. The left side should be 1, the river part should be 2, the right part should be 3.\")\n",
    "        return False\n",
    "    return True\n",
    "\n",
    "assert public_test2()"
   ]
  },
  {
   "cell_type": "markdown",
   "id": "9364aecc",
   "metadata": {
    "nbgrader": {
     "grade": false,
     "grade_id": "cell-1023e749fdcbfdf3",
     "locked": true,
     "schema_version": 3,
     "solution": false,
     "task": false
    }
   },
   "source": [
    "### Task 3:Mean Shift Segmentation\n",
    "In this task you will use mean shift algorithm to segment the picture.\n",
    "\n",
    "Steps:\n",
    "1. load the image from `'example/image2.tif'` and convert it into a RGB image.\n",
    "2. Use mean shift algorithm to segment the loaded picture. (Read hint 1) \n",
    "\n",
    "The parameter setting is: \n",
    "- spatialRad = 30\n",
    "- colorRad = 20\n",
    "- maxPyrLevel = 5\n",
    "\n",
    "Variables:\n",
    "1. `result` : result of step 2\n",
    "\n",
    "Hints:\n",
    "1. Function [cv.pyrMeanShiftFiltering](https://docs.opencv.org/4.x/d4/d86/group__imgproc__filter.html#ga9fabdce9543bd602445f5db3827e4cc0) to do mean shift segmentation"
   ]
  },
  {
   "cell_type": "code",
   "execution_count": null,
   "id": "7650c66d",
   "metadata": {
    "nbgrader": {
     "grade": false,
     "grade_id": "cell-ec9325ec31f4a171",
     "locked": false,
     "schema_version": 3,
     "solution": true,
     "task": false
    }
   },
   "outputs": [],
   "source": [
    "### BEGIN SOLUTION\n",
    "\n",
    "### END SOLUTION\n",
    "\n",
    "\n",
    "plt.figure(figsize=(20, 8), dpi=128)\n",
    "plt.subplot(1,2,1)\n",
    "plt.imshow(rgb_img)\n",
    "plt.axis('off')\n",
    "plt.subplot(1,2,2)\n",
    "plt.imshow(result)\n",
    "plt.axis('off')\n",
    "plt.show()"
   ]
  },
  {
   "cell_type": "code",
   "execution_count": null,
   "id": "8f111131",
   "metadata": {
    "nbgrader": {
     "grade": true,
     "grade_id": "cell-8ea73968dbd89f79",
     "locked": true,
     "points": 1,
     "schema_version": 3,
     "solution": false,
     "task": false
    }
   },
   "outputs": [],
   "source": [
    "def public_test3():\n",
    "    try:\n",
    "        result\n",
    "    except NameError:\n",
    "        print(\"[Error] Variable result is not defined.\")\n",
    "        return False\n",
    "\n",
    "    return True\n",
    "\n",
    "assert public_test3()"
   ]
  },
  {
   "cell_type": "markdown",
   "id": "5b2eb57c",
   "metadata": {
    "nbgrader": {
     "grade": false,
     "grade_id": "cell-36237f16698797f2",
     "locked": true,
     "schema_version": 3,
     "solution": false,
     "task": false
    }
   },
   "source": [
    "### Task 4:Simple Linear Iterative Clustering (SLIC) superpixels algorithm\n",
    "In this task you will try to create superpixels in the given picture.\n",
    "\n",
    "Steps:\n",
    "1. load image from `'example/image2.tif'` and convert it into a RGB image.\n",
    "2. Initialize superpixels creater on the loaded image. (Read Hint 1)\n",
    "3. Use `iterate()` function to calculates the superpixel segmentation on a given image with the initialized parameters.\n",
    "4. Use `enforceLabelConnectivity()` function to enforce label connectivity.\n",
    "5. Set the counter of superpixels into (255,0,0) on RGB image, save the result as `superpixel_result`.\n",
    "\n",
    "The parameter setting is: \n",
    "- region_size=30\n",
    "- ruler=10\n",
    "- min_element_size =20\n",
    "- num_iterations = 5\n",
    "\n",
    "Variables:\n",
    "1. `superpixel_result` : result of step 5\n",
    "\n",
    "Hints:\n",
    "1. Function [cv.ximgproc.createSuperpixelSLIC](https://docs.opencv.org/3.4/df/d6c/group__ximgproc__superpixel.html#gacf29df20eaca242645a8d3a2d88e6c06) to create superpixels.\n",
    "2. Infomation about [SuperpixelSLIC in OpenCV](https://docs.opencv.org/3.4/d3/da9/classcv_1_1ximgproc_1_1SuperpixelSLIC.html)"
   ]
  },
  {
   "cell_type": "code",
   "execution_count": null,
   "id": "c244f3bc",
   "metadata": {
    "nbgrader": {
     "grade": false,
     "grade_id": "cell-42043c1b7e1b9732",
     "locked": false,
     "schema_version": 3,
     "solution": true,
     "task": false
    }
   },
   "outputs": [],
   "source": [
    "### BEGIN SOLUTION\n",
    "\n",
    "### END SOLUTION\n",
    "\n",
    "\n",
    "plt.figure()\n",
    "plt.imshow(rgb_img)\n",
    "plt.axis('off')\n",
    "plt.show()"
   ]
  },
  {
   "cell_type": "code",
   "execution_count": null,
   "id": "748a2225",
   "metadata": {
    "nbgrader": {
     "grade": true,
     "grade_id": "cell-ead436154e081d2d",
     "locked": true,
     "points": 1,
     "schema_version": 3,
     "solution": false,
     "task": false
    }
   },
   "outputs": [],
   "source": [
    "def public_test4():\n",
    "    try:\n",
    "        superpixel_result\n",
    "    except NameError:\n",
    "        print(\"[Error] Variable superpixel_result is not defined.\")\n",
    "        return False\n",
    "    \n",
    "    try:\n",
    "        (superpixel_result[127,290] == (255,0,0)).all()\n",
    "    except:\n",
    "        print(\"[Error] The pixel (127,290) of superpixel_result should be (255,0,0).\")\n",
    "        return False\n",
    "    return True\n",
    "\n",
    "assert public_test4()"
   ]
  },
  {
   "cell_type": "markdown",
   "id": "161c0f7d",
   "metadata": {
    "nbgrader": {
     "grade": false,
     "grade_id": "cell-22b11316ecb7c25e",
     "locked": true,
     "schema_version": 3,
     "solution": false,
     "task": false
    }
   },
   "source": [
    "### Task 5: Douglas Peuke Algorithm\n",
    "In this task you will use Douglas Peuke algorithm to approximates a polygonal curve. You will try to 'smooth' the boundary of the Leine River in Hannover.\n",
    "\n",
    "Steps:\n",
    "1. load image from `'example/image3.tif'` and convert it into a RGB image and a grayscale image. Create a copy of `rgb_img` as `result_img`.\n",
    "2. Use region growing method to segment the Leine river with given seeds, (connectivity=1,tolerance=15), save the result in `river_3`\n",
    "3. Fulfill the river using closing operation with rectangular kernel of size 5x5.\n",
    "4. find contours of `river_3` with parameter `cv.RETR_EXTERNAL`, `cv.CHAIN_APPROX_SIMPLE`.\n",
    "5. Use Douglas Peuke algorithm to approximates a polygonal curve of the founded contour (epsilon=4). Save the result in `douglas_peuke_result`.\n",
    "6. Draw the original contour(green, thickness = 3) on `rgb_img` and the Douglas Peuke result(red, thickness = 3) on `result_img`.\n",
    "\n",
    "Variables:\n",
    "1. `douglas_peuke_result` : result of douglas peuke algorithm\n",
    "\n",
    "Hints:\n",
    "1. Function [cv.findContours](https://docs.opencv.org/4.x/d3/dc0/group__imgproc__shape.html#gadf1ad6a0b82947fa1fe3c3d497f260e0) and [cv.drawContours](https://docs.opencv.org/4.x/d6/d6e/group__imgproc__draw.html#ga746c0625f1781f1ffc9056259103edbc) to find and draw contours.\n",
    "2. Function [cv.approxPolyDP](https://docs.opencv.org/4.x/d3/dc0/group__imgproc__shape.html#ga0012a5fdaea70b8a9970165d98722b4c)"
   ]
  },
  {
   "cell_type": "code",
   "execution_count": null,
   "id": "d9fdcdc4",
   "metadata": {
    "nbgrader": {
     "grade": false,
     "grade_id": "cell-2f580948ddd35eb8",
     "locked": false,
     "schema_version": 3,
     "solution": true,
     "task": false
    },
    "scrolled": true
   },
   "outputs": [],
   "source": [
    "seeds = [(145,61),(361,240)]\n",
    "\n",
    "### BEGIN SOLUTION\n",
    "\n",
    "### END SOLUTION\n",
    "\n",
    "\n",
    "plt.figure()\n",
    "plt.subplot(1,2,1)\n",
    "plt.title('Original Contour')\n",
    "plt.imshow(rgb_img)\n",
    "plt.axis('off')\n",
    "plt.subplot(1,2,2)\n",
    "plt.title('Douglas Peuke Result')\n",
    "plt.imshow(result_img)\n",
    "plt.axis('off')\n",
    "plt.show()"
   ]
  },
  {
   "cell_type": "code",
   "execution_count": null,
   "id": "ca34cc40",
   "metadata": {
    "nbgrader": {
     "grade": true,
     "grade_id": "cell-b634b5d7fdbb5566",
     "locked": true,
     "points": 1,
     "schema_version": 3,
     "solution": false,
     "task": false
    }
   },
   "outputs": [],
   "source": [
    "def public_test5():\n",
    "    try:\n",
    "        douglas_peuke_result\n",
    "    except NameError:\n",
    "        print(\"[Error] Variable douglas_peuke_result is not defined.\")\n",
    "        return False\n",
    "    \n",
    "    return True\n",
    "\n",
    "assert public_test5()"
   ]
  },
  {
   "cell_type": "markdown",
   "id": "b921c708",
   "metadata": {
    "nbgrader": {
     "grade": false,
     "grade_id": "cell-de28c309df22bbfe",
     "locked": true,
     "schema_version": 3,
     "solution": false,
     "task": false
    }
   },
   "source": [
    "### Task 6: Hough transformation\n",
    "In this task you will use Hough transformation to detect the four small fountains in the Herrenhausen Gardens of Hannover.\n",
    "\n",
    "\n",
    "Steps:\n",
    "1. load image from `'example/image4.tif'` and convert it into a RGB image and a grayscale image.\n",
    "2. Threshold segment the variable `gray_img` using threshold value 190 and save the result in `binary_img`.\n",
    "3. Use opening operation with rectangular kernel of size 5x5 to reduce noise in `binary_img`.\n",
    "4. Use function `cv.findContours()` and `cv.drawContours()` to get the edges of `binary_img` and save the result in `edges`(binary image).\n",
    "5. Implement hough circle transformation with given `hough_radii` to detect the center of four small fountains. Save the result in `cx`, `cy`.\n",
    "6. Use `cv.circle()` to draw red circles(thickness=2) in `rgb_img`, indicating the position of founded fountains.\n",
    "\n",
    "Hints:\n",
    "1. Function [skimage.transform.hough_circle](https://scikit-image.org/docs/stable/api/skimage.transform.html#skimage.transform.hough_circle) to implement hough transformation.\n",
    "2. Function [skimage.transform.hough_circle_peaks](https://scikit-image.org/docs/stable/api/skimage.transform.html#skimage.transform.hough_circle_peaks) to find the maxima in hough transformation result.\n",
    "3. Watch [this tutorial](https://scikit-image.org/docs/stable/auto_examples/edges/plot_circular_elliptical_hough_transform.html#sphx-glr-auto-examples-edges-plot-circular-elliptical-hough-transform-py) to learn about how to use functions above."
   ]
  },
  {
   "cell_type": "code",
   "execution_count": null,
   "id": "1412349f",
   "metadata": {
    "nbgrader": {
     "grade": false,
     "grade_id": "cell-aa89fa21bcfe99ea",
     "locked": false,
     "schema_version": 3,
     "solution": true,
     "task": false
    }
   },
   "outputs": [],
   "source": [
    "hough_radii = [36]\n",
    "\n",
    "### BEGIN SOLUTION\n",
    "\n",
    "### END SOLUTION\n",
    "\n",
    "\n",
    "plt.figure(figsize=(16, 8), dpi=96)\n",
    "plt.subplot(1,2,1)\n",
    "plt.title('Hough Space')\n",
    "plt.imshow(hough_result[0])\n",
    "plt.subplot(1,2,2)\n",
    "plt.title('Circle Detection Result')\n",
    "plt.imshow(rgb_img)\n",
    "plt.axis('off')\n",
    "plt.show()"
   ]
  },
  {
   "cell_type": "code",
   "execution_count": null,
   "id": "c92af011",
   "metadata": {
    "nbgrader": {
     "grade": true,
     "grade_id": "cell-4e91178d97c84903",
     "locked": true,
     "points": 1,
     "schema_version": 3,
     "solution": false,
     "task": false
    }
   },
   "outputs": [],
   "source": [
    "def public_test6():\n",
    "    try:\n",
    "        hough_result\n",
    "    except NameError:\n",
    "        print(\"[Error] Variable hough_result is not defined.\")\n",
    "        return False\n",
    "\n",
    "    return True\n",
    "\n",
    "assert public_test6()"
   ]
  }
 ],
 "metadata": {
  "celltoolbar": "Create Assignment",
  "kernelspec": {
   "display_name": "Python 3 (ipykernel)",
   "language": "python",
   "name": "python3"
  },
  "language_info": {
   "codemirror_mode": {
    "name": "ipython",
    "version": 3
   },
   "file_extension": ".py",
   "mimetype": "text/x-python",
   "name": "python",
   "nbconvert_exporter": "python",
   "pygments_lexer": "ipython3",
   "version": "3.10.9"
  },
  "vscode": {
   "interpreter": {
    "hash": "f0595ebf63a541339a4922d5effdc3d652019b8f5c61b186b3ef548bf86b812f"
   }
  }
 },
 "nbformat": 4,
 "nbformat_minor": 5
}
