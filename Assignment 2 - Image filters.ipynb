{
 "cells": [
  {
   "cell_type": "markdown",
   "id": "b8e4889f",
   "metadata": {},
   "source": [
    "The following graphics shows exemplary the mathematical operations of the convolution. The filter matrix __H__ is shifted over the input image __I__. The values 'under' the filter matrix are multiplicated with the corresponding values in __H__, summed up and writen to the result __J__. The target position is usually the position under the center of __H__.\n",
    "\n",
    "![image](data:image/png;base64,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)\n",
    "\n",
    "- __I__: Image to convolve.\n",
    "- __H__: filter matrix to convolve the image with.\n",
    "- __J__: Result of the convolution.\n",
    "\n",
    "At the image boundaries, the filter mask will be outside the image. So we need to extend the image boundaries, which is called \"padding\"."
   ]
  },
  {
   "cell_type": "markdown",
   "id": "95e6202c",
   "metadata": {
    "nbgrader": {
     "grade": false,
     "grade_id": "cell-f89fc73f12ddb4c4",
     "locked": true,
     "schema_version": 3,
     "solution": false,
     "task": false
    }
   },
   "source": [
    "### Dependencies \n",
    "Please run the following block first if you have installed the necessary dependencies."
   ]
  },
  {
   "cell_type": "code",
   "execution_count": null,
   "id": "caedd81f",
   "metadata": {
    "nbgrader": {
     "grade": false,
     "grade_id": "cell-62257edf1d39f782",
     "locked": true,
     "schema_version": 3,
     "solution": false,
     "task": false
    }
   },
   "outputs": [],
   "source": [
    "!pip install numpy\n",
    "!pip install opencv-contrib-python-headless==4.7.0.68\n",
    "!pip install matplotlib\n",
    "!pip install scikit-image"
   ]
  },
  {
   "cell_type": "markdown",
   "id": "9f5ab5c5",
   "metadata": {
    "nbgrader": {
     "grade": false,
     "grade_id": "cell-0ef8e6e61b51d659",
     "locked": true,
     "schema_version": 3,
     "solution": false,
     "task": false
    }
   },
   "source": [
    "### Import the 3rd party libraries"
   ]
  },
  {
   "cell_type": "code",
   "execution_count": null,
   "id": "294fdfc0",
   "metadata": {
    "nbgrader": {
     "grade": false,
     "grade_id": "cell-457569cc4688416b",
     "locked": true,
     "schema_version": 3,
     "solution": false,
     "task": false
    }
   },
   "outputs": [],
   "source": [
    "# Numpy offers comprehensive mathematical functions in Python\n",
    "import numpy as np\n",
    "\n",
    "# OpenCV provides a optimized tools for Computer Vision.\n",
    "import cv2 as cv\n",
    "\n",
    "# Matplotlib is a library for creating visualizations in Python.\n",
    "from matplotlib import pyplot as plt\n",
    "\n",
    "#Scikit-image offers a random noise method\n",
    "from skimage.util import random_noise"
   ]
  },
  {
   "cell_type": "markdown",
   "id": "7362b0d2",
   "metadata": {
    "nbgrader": {
     "grade": false,
     "grade_id": "cell-94677548e8ff0cc3",
     "locked": true,
     "schema_version": 3,
     "solution": false,
     "task": false
    }
   },
   "source": [
    "### Task 1: Convolution\n",
    "In this task you will realize padding and convolution:\n",
    "\n",
    "Steps:\n",
    "1. padding the given src_img using different image boundaries (zero, wrap, clamp, mirror), padding width = 20\n",
    "2. convolve the given kernel with src_mat\n",
    "\n",
    "Variables:\n",
    "1. `zero_padding` : extended image using zero padding\n",
    "2. `wrap_padding` : extended image using wrap padding\n",
    "3. `clamp_padding` : extended image using clamp padding\n",
    "4. `mirror_padding` : extended image using mirror padding\n",
    "5. `conv_mat` : convolution result\n",
    "\n",
    "Hints:\n",
    "1. Function [cv.copyMakeBorder](https://docs.opencv.org/3.4/d2/de8/group__core__array.html#ga2ac1049c2c3dd25c2b41bffe17658a36) to padding\n",
    "2. Function [cv.filter2D](https://docs.opencv.org/4.x/d4/d86/group__imgproc__filter.html#ga27c049795ce870216ddfb366086b5a04) to convolve a kernel with an image. Notice that `cv.filter2D` will automatically create padding according to `borderType`(See Hint 3), you don't need to do padding before you call.\n",
    "2. The 7th parameter of `cv.filter2D` is `borderType` defines the padding methods, seeing [BorderTypes](https://docs.opencv.org/4.x/d2/de8/group__core__array.html#ga209f2f4869e304c82d07739337eae7c5) to know about basic type of padding in OpenCV, default as `BORDER_CONSTANT`\n"
   ]
  },
  {
   "cell_type": "markdown",
   "id": "07362f6c",
   "metadata": {
    "nbgrader": {
     "grade": false,
     "grade_id": "cell-4c9d94c32ea0d7f5",
     "locked": true,
     "schema_version": 3,
     "solution": false,
     "task": false
    }
   },
   "source": [
    "#### Quiz 1:\n",
    "\n",
    "__Which borderTypes will provide continous grey values at the border? and which may have strong grey value changes?__"
   ]
  },
  {
   "cell_type": "markdown",
   "id": "52ba5b40",
   "metadata": {
    "nbgrader": {
     "grade": true,
     "grade_id": "cell-4bb72bbd24851f22",
     "locked": false,
     "points": 1,
     "schema_version": 3,
     "solution": true,
     "task": false
    }
   },
   "source": [
    "Your answer:"
   ]
  },
  {
   "cell_type": "code",
   "execution_count": null,
   "id": "fa6a467c",
   "metadata": {
    "nbgrader": {
     "grade": false,
     "grade_id": "cell-9800c9e064c8cb4c",
     "locked": false,
     "schema_version": 3,
     "solution": true,
     "task": false
    }
   },
   "outputs": [],
   "source": [
    "src_img = cv.imread('example/house.jpg',cv.IMREAD_GRAYSCALE)\n",
    "\n",
    "kernel =  np.array([[1,3,1],[-2,-1,-2],[1,3,1]])\n",
    "\n",
    "### BEGIN SOLUTION\n",
    "\n",
    "### END SOLUTION\n",
    "\n",
    "plt.figure(figsize=(16, 8), dpi=96)\n",
    "plt.subplot(1,6,1)\n",
    "plt.title(\"src img\")\n",
    "plt.imshow(src_img, cmap='gray')\n",
    "plt.axis ('off')\n",
    "plt.subplot(1,6,2)\n",
    "plt.title(\"zero padding\")\n",
    "plt.imshow(zero_padding, cmap=plt.cm.gray)\n",
    "plt.axis ('off')\n",
    "plt.subplot(1,6,3)\n",
    "plt.title(\"wrap padding\")\n",
    "plt.imshow(wrap_padding, cmap=plt.cm.gray)\n",
    "plt.axis ('off')\n",
    "plt.subplot(1,6,4)\n",
    "plt.title(\"clamp padding\")\n",
    "plt.imshow(clamp_padding, cmap=plt.cm.gray)\n",
    "plt.axis ('off')\n",
    "plt.subplot(1,6,5)\n",
    "plt.title(\"mirror padding\")\n",
    "plt.imshow(mirror_padding, cmap=plt.cm.gray)\n",
    "plt.axis ('off')\n",
    "plt.subplot(1,6,6)\n",
    "plt.title(\"conv mat\")\n",
    "plt.imshow(conv_mat, cmap='gray')\n",
    "plt.axis ('off')\n",
    "plt.show()"
   ]
  },
  {
   "cell_type": "code",
   "execution_count": null,
   "id": "d9488bd6",
   "metadata": {
    "nbgrader": {
     "grade": true,
     "grade_id": "cell-ed9eab29f35f037c",
     "locked": true,
     "points": 1,
     "schema_version": 3,
     "solution": false,
     "task": false
    }
   },
   "outputs": [],
   "source": [
    "def public_test1():\n",
    "    try:\n",
    "        zero_padding\n",
    "    except NameError:\n",
    "        print(\"[Error] Variable zero_padding is not defined\")\n",
    "        return False\n",
    "    \n",
    "    try:\n",
    "        wrap_padding\n",
    "    except NameError:\n",
    "        print(\"[Error] Variable wrap_padding is not defined\")\n",
    "        return False\n",
    "    \n",
    "    try:\n",
    "        clamp_padding\n",
    "    except NameError:\n",
    "        print(\"[Error] Variable clamp_padding is not defined\")\n",
    "        return False\n",
    "    \n",
    "    try:\n",
    "        mirror_padding\n",
    "    except NameError:\n",
    "        print(\"[Error] Variable mirror_padding is not defined\")\n",
    "        return False\n",
    "    \n",
    "    try:\n",
    "        conv_mat\n",
    "    except NameError:\n",
    "        print(\"[Error] Variable conv_mat is not defined\")\n",
    "        return False\n",
    "    return True\n",
    "\n",
    "assert public_test1()"
   ]
  },
  {
   "cell_type": "markdown",
   "id": "2902dac1",
   "metadata": {
    "nbgrader": {
     "grade": false,
     "grade_id": "cell-a521d825f7309b4f",
     "locked": true,
     "schema_version": 3,
     "solution": false,
     "task": false
    }
   },
   "source": [
    "### Task 2: BOX Filter, Gaussian Filter and median Filter\n",
    "In this task you will create kernels of different filters and apply it on the given images:\n",
    "\n",
    "Steps:\n",
    "1. create the kernel of 5x5 box filter and apply it on `gaussian_noise_img`\n",
    "2. create the kernel of 5x5 gaussian filter (sigma: 1.1) and apply it on `saltNpepper_noise_img`\n",
    "3. apply 5x5 median filter on the given salt_img\n",
    "\n",
    "Variables:\n",
    "1. `box_kernel` : kernel of box filter\n",
    "2. `gaussian_kernel` : kernel of gaussian filter\n",
    "3. `box_result` : convolution result using box filter\n",
    "4. `gaussian_result` : convolution result using gaussian filter\n",
    "5. `median_result` : convolution result using median filter\n",
    "\n",
    "Hints:\n",
    "1. Function [cv.getGaussianKernel](https://docs.opencv.org/4.x/d4/d86/group__imgproc__filter.html#gac05a120c1ae92a6060dd0db190a61afa) to create gaussian kernel\n",
    "2. Function [cv.sepFilter2D](https://docs.opencv.org/4.x/d4/d86/group__imgproc__filter.html#ga910e29ff7d7b105057d1625a4bf6318d) to apply gaussian filter\n",
    "3. Function [cv.medianBlur](https://docs.opencv.org/4.x/d4/d86/group__imgproc__filter.html#ga564869aa33e58769b4469101aac458f9) to use median filter"
   ]
  },
  {
   "cell_type": "markdown",
   "id": "897835ad",
   "metadata": {
    "nbgrader": {
     "grade": false,
     "grade_id": "cell-22b1dd995230c9f3",
     "locked": true,
     "schema_version": 3,
     "solution": false,
     "task": false
    }
   },
   "source": [
    "#### Quiz 2:\n",
    "\n",
    "__Please try to characterize the images after applying different filters.__"
   ]
  },
  {
   "cell_type": "markdown",
   "id": "39b13ff0",
   "metadata": {
    "nbgrader": {
     "grade": true,
     "grade_id": "cell-ad3d3db8a53282a4",
     "locked": false,
     "points": 1,
     "schema_version": 3,
     "solution": true,
     "task": false
    }
   },
   "source": [
    "Your answer:"
   ]
  },
  {
   "cell_type": "code",
   "execution_count": null,
   "id": "18933213",
   "metadata": {
    "nbgrader": {
     "grade": false,
     "grade_id": "cell-cb01fd9e6dfaaa2b",
     "locked": false,
     "schema_version": 3,
     "solution": true,
     "task": false
    }
   },
   "outputs": [],
   "source": [
    "gaussian_noise_img = (255*random_noise(src_img,mode='gaussian')).astype(np.uint8)\n",
    "saltNpepper_noise_img = (255*random_noise(src_img,mode='s&p')).astype(np.uint8)\n",
    "\n",
    "### BEGIN SOLUTION\n",
    "\n",
    "### END SOLUTION\n",
    "plt.figure(figsize=(4, 7), dpi=109)\n",
    "plt.subplot(3,2,1)\n",
    "plt.imshow(gaussian_noise_img,cmap='gray')\n",
    "plt.title(\"gaussian noise\")\n",
    "plt.axis ('off')\n",
    "plt.subplot(3,2,2)\n",
    "plt.imshow(box_result,cmap='gray')\n",
    "plt.title(\"box filter\")\n",
    "plt.axis ('off')\n",
    "plt.subplot(3,2,3)\n",
    "plt.imshow(gaussian_noise_img,cmap='gray')\n",
    "plt.title(\"gaussian noise\")\n",
    "plt.axis ('off')\n",
    "plt.subplot(3,2,4)\n",
    "plt.imshow(gaussian_result,cmap='gray')\n",
    "plt.title(\"gaussian filter\")\n",
    "plt.axis ('off')\n",
    "plt.subplot(3,2,5)\n",
    "plt.imshow(saltNpepper_noise_img,cmap='gray')\n",
    "plt.title(\"salt&pepper noise\")\n",
    "plt.axis ('off')\n",
    "plt.subplot(3,2,6)\n",
    "plt.imshow(median_result,cmap='gray')\n",
    "plt.title(\"median filter\")\n",
    "plt.axis ('off')\n",
    "plt.show()"
   ]
  },
  {
   "cell_type": "code",
   "execution_count": null,
   "id": "3b0c2af8",
   "metadata": {
    "nbgrader": {
     "grade": true,
     "grade_id": "cell-2fd10c6ce14e5dfd",
     "locked": true,
     "points": 1,
     "schema_version": 3,
     "solution": false,
     "task": false
    }
   },
   "outputs": [],
   "source": [
    "def public_test2():\n",
    "    try:\n",
    "        box_kernel\n",
    "    except NameError:\n",
    "        print(\"[Error] Variable box_kernel is not defined.\")\n",
    "        return False\n",
    "    \n",
    "    try:\n",
    "        box_kernel.shape == (5,5)\n",
    "    except:\n",
    "        print(\"[Error] The shape of box_kernel is wrong.\")\n",
    "        return False\n",
    "    \n",
    "    try:\n",
    "        gaussian_kernel\n",
    "    except NameError:\n",
    "        print(\"[Error] Variable gaussian_kernel is not defined\")\n",
    "        return False\n",
    "    \n",
    "    try:\n",
    "        gaussian_kernel.shape == (5,1)\n",
    "    except:\n",
    "        print(\"[Error] The shape of gaussian_kernel is wrong.\")\n",
    "        return False\n",
    "    \n",
    "    try:\n",
    "        box_result\n",
    "    except NameError:\n",
    "        print(\"[Error] Variable box_result is not defined\")\n",
    "        return False\n",
    "    \n",
    "    try:\n",
    "        gaussian_result\n",
    "    except NameError:\n",
    "        print(\"[Error] Variable gaussian_result is not defined\")\n",
    "        return False\n",
    "    \n",
    "    try:\n",
    "        median_result\n",
    "    except NameError:\n",
    "        print(\"[Error] Variable median_result is not defined\")\n",
    "        return False\n",
    "    \n",
    "    return True\n",
    "\n",
    "assert public_test2()"
   ]
  },
  {
   "cell_type": "markdown",
   "id": "40b4d14d",
   "metadata": {
    "nbgrader": {
     "grade": false,
     "grade_id": "cell-f13ee5c02ca5a853",
     "locked": true,
     "schema_version": 3,
     "solution": false,
     "task": false
    }
   },
   "source": [
    "### Task 3:Sobel Filter\n",
    "In this task you will create kernels of sobel filters and apply it on the aboved `src_img`:\n",
    "\n",
    "Steps:\n",
    "1. create the kernel of 3x3 sobel filter in x and y direction separately\n",
    "2. apply them separately to calculate x and y gradient\n",
    "3. calculate the magnitude and the direction of the gradient\n",
    "\n",
    "Variables:\n",
    "1. `sobel_x_kernel` : kernel of sobel filter in x direction\n",
    "2. `sobel_y_kernel` : kernel of sobel filter in y direction\n",
    "3. `gradient_x` : gradient of `src_img` in x direction\n",
    "4. `gradient_y` : gradient of `src_img` in y direction\n",
    "5. `magnitude` : magnitude  of gradient\n",
    "6. `direction` : direction of gradient\n",
    "\n",
    "Hints:\n",
    "1. Function [cv.filter2D](https://docs.opencv.org/4.x/d4/d86/group__imgproc__filter.html#ga27c049795ce870216ddfb366086b5a04) to convolve a kernel with an image.\n",
    "2. The 2nd parameter of function `cv.filter2D` here should be `cv.CV_64F` to prevent a bug.\n"
   ]
  },
  {
   "cell_type": "markdown",
   "id": "03b29247",
   "metadata": {
    "nbgrader": {
     "grade": false,
     "grade_id": "cell-e3d06f8d0e50a672",
     "locked": true,
     "schema_version": 3,
     "solution": false,
     "task": false
    }
   },
   "source": [
    "#### Quiz 3:\n",
    "\n",
    "__Please explain why we need to calculate the magnitude and direction for the gradient images?__"
   ]
  },
  {
   "cell_type": "markdown",
   "id": "7da03057",
   "metadata": {
    "nbgrader": {
     "grade": true,
     "grade_id": "cell-84b4529c53019aee",
     "locked": false,
     "points": 1,
     "schema_version": 3,
     "solution": true,
     "task": false
    }
   },
   "source": [
    "Your answer:"
   ]
  },
  {
   "cell_type": "code",
   "execution_count": null,
   "id": "f5ed91ef",
   "metadata": {
    "nbgrader": {
     "grade": false,
     "grade_id": "cell-db771bc1cc7797fc",
     "locked": false,
     "schema_version": 3,
     "solution": true,
     "task": false
    }
   },
   "outputs": [],
   "source": [
    "### BEGIN SOLUTION\n",
    "\n",
    "### END SOLUTION\n",
    "\n",
    "\n",
    "direction = cv.normalize(direction,None,0,2*np.pi,cv.NORM_MINMAX)\n",
    "\n",
    "plt.subplot(2,2,1)\n",
    "plt.imshow(gradient_x,cmap='gray')\n",
    "plt.axis('off')\n",
    "plt.subplot(2,2,2)\n",
    "plt.imshow(magnitude,cmap='Greys')\n",
    "plt.axis('off')\n",
    "plt.subplot(2,2,3)\n",
    "plt.imshow(gradient_y,cmap='gray')\n",
    "plt.axis('off')\n",
    "plt.subplot(2,2,4)\n",
    "plt.imshow(direction,cmap='turbo')\n",
    "plt.axis('off')\n",
    "plt.show()"
   ]
  },
  {
   "cell_type": "code",
   "execution_count": null,
   "id": "efdc26bb",
   "metadata": {
    "nbgrader": {
     "grade": true,
     "grade_id": "cell-78ea3d1ee2292ef7",
     "locked": true,
     "points": 1,
     "schema_version": 3,
     "solution": false,
     "task": false
    }
   },
   "outputs": [],
   "source": [
    "def public_test3():\n",
    "    try:\n",
    "        sobel_x_kernel\n",
    "    except NameError:\n",
    "        print(\"[Error] Variable sobel_x_kernel is not defined\")\n",
    "        return False\n",
    "    \n",
    "    try:\n",
    "        sobel_x_kernel.shape == (3,3)\n",
    "    except:\n",
    "        print(\"[Error] The shape of sobel_x_kernel is wrong.\")\n",
    "        return False\n",
    "    \n",
    "    try:\n",
    "        sobel_y_kernel\n",
    "    except NameError:\n",
    "        print(\"[Error] Variable sobel_y_kernel is not defined\")\n",
    "        return False\n",
    "    \n",
    "    try:\n",
    "        sobel_y_kernel.shape == (3,3)\n",
    "    except:\n",
    "        print(\"[Error] The shape of sobel_y_kernel is wrong.\")\n",
    "        return False\n",
    "    \n",
    "    try:\n",
    "        gradient_x\n",
    "    except NameError:\n",
    "        print(\"[Error] Variable gradient_x is not defined\")\n",
    "        return False\n",
    "    \n",
    "    try:\n",
    "        gradient_y\n",
    "    except NameError:\n",
    "        print(\"[Error] Variable gradient_y is not defined\")\n",
    "        return False\n",
    "    \n",
    "    try:\n",
    "        magnitude\n",
    "    except NameError:\n",
    "        print(\"[Error] Variable magnitude is not defined\")\n",
    "        return False\n",
    "    \n",
    "    try:\n",
    "        direction\n",
    "    except NameError:\n",
    "        print(\"[Error] Variable direction is not defined\")\n",
    "        return False\n",
    "    \n",
    "    return True\n",
    "\n",
    "assert public_test3()"
   ]
  },
  {
   "cell_type": "markdown",
   "id": "6f29c197",
   "metadata": {
    "nbgrader": {
     "grade": false,
     "grade_id": "cell-b396eb22ef915f6a",
     "locked": true,
     "schema_version": 3,
     "solution": false,
     "task": false
    }
   },
   "source": [
    "### Task 4:Laplacian Filter\n",
    "In this task you will create kernels of laplacian filters and apply it on the aboved `src_img`:\n",
    "\n",
    "Steps:\n",
    "1. create the kernel of 3x3 laplacian filter (4 neighbor) in x and y direction separately\n",
    "2. apply them separately to calculate gradient\n",
    "3. repeat step 1 and 2 using 3x3 laplacian filter (8 neighbor)\n",
    "\n",
    "Variables:\n",
    "1. `laplacian_kernel_4` : kernel of laplacian filter\n",
    "2. `gradient_4` : gradient using 4 neighbor kernel of `src_img`\n",
    "3. `laplacian_kernel_8` : kernel of laplacian filter\n",
    "4. `gradient_8` : gradient using 8 neighbor kernel of `src_img`\n",
    "\n",
    "Hints:\n",
    "1. Function [cv.filter2D](https://docs.opencv.org/4.x/d4/d86/group__imgproc__filter.html#ga27c049795ce870216ddfb366086b5a04) to convolve a kernel with an image."
   ]
  },
  {
   "cell_type": "markdown",
   "id": "db6e45e6",
   "metadata": {
    "nbgrader": {
     "grade": false,
     "grade_id": "cell-fcfdd3060ae45235",
     "locked": true,
     "schema_version": 3,
     "solution": false,
     "task": false
    }
   },
   "source": [
    "### Quiz 4:\n",
    "\n",
    "__Please explain the difference between directly applying laplacian operator and applying laplacian operator on an image after smoothing.__"
   ]
  },
  {
   "cell_type": "markdown",
   "id": "cd9e044e",
   "metadata": {
    "nbgrader": {
     "grade": true,
     "grade_id": "cell-fb6d7a3f3d43fc96",
     "locked": false,
     "points": 1,
     "schema_version": 3,
     "solution": true,
     "task": false
    }
   },
   "source": [
    "Your answer:"
   ]
  },
  {
   "cell_type": "code",
   "execution_count": null,
   "id": "17f0c7ce",
   "metadata": {
    "nbgrader": {
     "grade": false,
     "grade_id": "cell-9b22423f48ff8759",
     "locked": false,
     "schema_version": 3,
     "solution": true,
     "task": false
    }
   },
   "outputs": [],
   "source": [
    "### BEGIN SOLUTION\n",
    "\n",
    "### END SOLUTION\n",
    "\n",
    "plt.subplot(1,2,1)\n",
    "plt.imshow(cv.convertScaleAbs(gradient_4),cmap='gray')\n",
    "plt.axis('off')\n",
    "plt.subplot(1,2,2)\n",
    "plt.imshow(cv.convertScaleAbs(gradient_8),cmap='gray')\n",
    "plt.axis('off')\n",
    "plt.show()"
   ]
  },
  {
   "cell_type": "code",
   "execution_count": null,
   "id": "8e343b20",
   "metadata": {
    "nbgrader": {
     "grade": true,
     "grade_id": "cell-dbe0a361a7d3a28b",
     "locked": true,
     "points": 1,
     "schema_version": 3,
     "solution": false,
     "task": false
    }
   },
   "outputs": [],
   "source": [
    "def public_test4():\n",
    "    try:\n",
    "        laplacian_kernel_4\n",
    "    except NameError:\n",
    "        print(\"[Error] Variable laplacian_kernel_4 is not defined\")\n",
    "        return False\n",
    "\n",
    "    try:\n",
    "        laplacian_kernel_4.shape == (3,3)\n",
    "    except:\n",
    "        print(\"[Error] The shape of laplacian_kernel_4 is wrong.\")\n",
    "        return False\n",
    "    \n",
    "    try:\n",
    "        laplacian_kernel_8\n",
    "    except NameError:\n",
    "        print(\"[Error] Variable laplacian_kernel_8 is not defined\")\n",
    "        return False\n",
    "\n",
    "    try:\n",
    "        laplacian_kernel_8.shape == (3,3)\n",
    "    except:\n",
    "        print(\"[Error] The shape of laplacian_kernel_8 is wrong.\")\n",
    "        return False\n",
    "    \n",
    "    try:\n",
    "        gradient_4\n",
    "    except NameError:\n",
    "        print(\"[Error] Variable gradient_4 is not defined\")\n",
    "        return False\n",
    "    \n",
    "    try:\n",
    "        gradient_8\n",
    "    except NameError:\n",
    "        print(\"[Error] Variable gradient_8 is not defined\")\n",
    "        return False\n",
    "    \n",
    "    return True\n",
    "\n",
    "assert public_test4()"
   ]
  }
 ],
 "metadata": {
  "celltoolbar": "Create Assignment",
  "kernelspec": {
   "display_name": "Python 3 (ipykernel)",
   "language": "python",
   "name": "python3"
  },
  "language_info": {
   "codemirror_mode": {
    "name": "ipython",
    "version": 3
   },
   "file_extension": ".py",
   "mimetype": "text/x-python",
   "name": "python",
   "nbconvert_exporter": "python",
   "pygments_lexer": "ipython3",
   "version": "3.10.9"
  },
  "vscode": {
   "interpreter": {
    "hash": "f0595ebf63a541339a4922d5effdc3d652019b8f5c61b186b3ef548bf86b812f"
   }
  }
 },
 "nbformat": 4,
 "nbformat_minor": 5
}
