{
 "cells": [
  {
   "cell_type": "markdown",
   "metadata": {},
   "source": [
    "Geometric transformations are fundamental operations in computer vision and image processing, and they are used to modify the position, size, and orientation of objects in an image. By applying these transformations, we can correct distortions in images, enhance features, and even create artistic effects.\n",
    "\n",
    "Throughout this homework, you will be introduced to the basics of image manipulation in Python using the `OpenCV` library, a powerful tool for image processing and computer vision tasks. You will learn how to perform various geometric transformations such as `scaling`, `translation`, `rotation`, `affine transformation`, and `perspective transformation`, and you will apply these techniques to real-world images. \n",
    "\n",
    "By completing this homework, you will gain a solid understanding of how to use Python and OpenCV for image processing tasks and will have the skills to manipulate and transform digital images with ease. Let's get started!"
   ]
  },
  {
   "cell_type": "markdown",
   "metadata": {
    "nbgrader": {
     "grade": false,
     "grade_id": "cell-fb3021452788867e",
     "locked": true,
     "schema_version": 3,
     "solution": false,
     "task": false
    }
   },
   "source": [
    "### Dependencies \n",
    "Please run the following block first if you have installed the necessary dependencies."
   ]
  },
  {
   "cell_type": "code",
   "execution_count": null,
   "metadata": {
    "nbgrader": {
     "grade": false,
     "grade_id": "cell-f2378bd2aacbd49e",
     "locked": true,
     "schema_version": 3,
     "solution": false,
     "task": false
    }
   },
   "outputs": [],
   "source": [
    "!pip install numpy\n",
    "!pip install opencv-contrib-python-headless==4.7.0.68\n",
    "!pip install matplotlib\n",
    "!pip install scikit-image"
   ]
  },
  {
   "cell_type": "markdown",
   "metadata": {
    "nbgrader": {
     "grade": false,
     "grade_id": "cell-090b7ef2cdf16e8d",
     "locked": true,
     "schema_version": 3,
     "solution": false,
     "task": false
    }
   },
   "source": [
    "### Import the 3rd party libraries"
   ]
  },
  {
   "cell_type": "code",
   "execution_count": null,
   "metadata": {
    "nbgrader": {
     "grade": false,
     "grade_id": "cell-8954f2165e7e2d27",
     "locked": true,
     "schema_version": 3,
     "solution": false,
     "task": false
    }
   },
   "outputs": [],
   "source": [
    "# Numpy offers comprehensive mathematical functions in Python\n",
    "import numpy as np\n",
    "\n",
    "# OpenCV provides a optimized tools for Computer Vision.\n",
    "import cv2 as cv\n",
    "\n",
    "# Matplotlib is a library for creating visualizations in Python.\n",
    "from matplotlib import pyplot as plt"
   ]
  },
  {
   "cell_type": "markdown",
   "metadata": {
    "nbgrader": {
     "grade": false,
     "grade_id": "cell-aab2318f34ea93de",
     "locked": true,
     "schema_version": 3,
     "solution": false,
     "task": false
    }
   },
   "source": [
    "### Task 1: Scaling\n",
    "Scaling involves resizing an image, either by increasing or decreasing its size. Scaling can be used to zoom in on specific features of an image or to resize an image to fit a particular display or output size.\n",
    "\n",
    "Steps:\n",
    "1. load an image from `\"example/Arena.jpg\"`, convert its channel into RGB (In the following task, you may also need to do this but it will not remind you again)\n",
    "2. scaling the original image into half of its original size, use `bilinear` interpolation \n",
    "3. scaling the original image into size (width=370,height=430), use `bicubic` interpolation\n",
    "4. display all three images in one row (won't be tested)\n",
    "\n",
    "Variables:\n",
    "1. `src_img` : loaded image\n",
    "2. `half_size` : result of step 2\n",
    "3. `arbitrary_size` : result of step 3\n",
    "\n",
    "Hints:\n",
    "1. Function [cv.imread](https://docs.opencv.org/4.x/d4/da8/group__imgcodecs.html#ga288b8b3da0892bd651fce07b3bbd3a56) to load the image.\n",
    "2. Function [cv.resize](https://docs.opencv.org/4.x/da/d54/group__imgproc__transform.html#ga47a974309e9102f5f08231edc7e7529d) to scaling the image, check [InterpolationFlags](https://docs.opencv.org/4.x/da/d54/group__imgproc__transform.html#ga5bb5a1fea74ea38e1a5445ca803ff121) to learn about different interpolation methods.\n",
    "3. Function [plt.imshow](https://matplotlib.org/stable/api/_as_gen/matplotlib.pyplot.imshow.html) and [plt.subplot](https://matplotlib.org/stable/api/_as_gen/matplotlib.pyplot.subplot.html) to display the images."
   ]
  },
  {
   "cell_type": "code",
   "execution_count": null,
   "metadata": {
    "nbgrader": {
     "grade": false,
     "grade_id": "cell-6aa71b2506f86fda",
     "locked": false,
     "schema_version": 3,
     "solution": true,
     "task": false
    },
    "scrolled": true
   },
   "outputs": [],
   "source": [
    "### BEGIN SOLUTION\n",
    "\n",
    "### END SOLUTION\n",
    "# display\n",
    "plt.figure(figsize=(16, 8), dpi=91)\n",
    "height, width = src_img.shape[:2]\n",
    "ax1 = plt.subplot(1,3,1)\n",
    "plt.imshow(src_img)\n",
    "plt.title(\"srcimg\")\n",
    "plt.subplot(1,3,2,xlim=(0,width),ylim=(height,0))\n",
    "plt.imshow(half_size)\n",
    "plt.title(\"half size image\")\n",
    "plt.subplot(1,3,3,xlim=(0,width),ylim=(height,0))\n",
    "plt.imshow(arbitrary_size)\n",
    "plt.title(\"size 370x430\")\n",
    "plt.show()"
   ]
  },
  {
   "cell_type": "code",
   "execution_count": null,
   "metadata": {
    "nbgrader": {
     "grade": true,
     "grade_id": "cell-bb5bd41c756dbcc9",
     "locked": true,
     "points": 1,
     "schema_version": 3,
     "solution": false,
     "task": false
    }
   },
   "outputs": [],
   "source": [
    "def public_test1():\n",
    "    try:\n",
    "        src_img\n",
    "    except NameError:\n",
    "        print(\"[Error] Variable src_img is not defined.\")\n",
    "        return False\n",
    "    \n",
    "    try:\n",
    "        half_size\n",
    "    except NameError:\n",
    "        print(\"[Error] Variable half_size is not defined.\")\n",
    "        return False\n",
    "    \n",
    "    try:\n",
    "        arbitrary_size\n",
    "    except NameError:\n",
    "        print(\"[Error] Variable arbitrary_size is not defined.\")\n",
    "        return False\n",
    "    return True\n",
    "\n",
    "assert public_test1()"
   ]
  },
  {
   "cell_type": "markdown",
   "metadata": {
    "nbgrader": {
     "grade": false,
     "grade_id": "cell-f5f13d65abc69bb6",
     "locked": true,
     "schema_version": 3,
     "solution": false,
     "task": false
    }
   },
   "source": [
    "### Task 2: Affine Transformation\n",
    "Affine transformation is a type of geometric transformation that preserves the straightness of lines and the parallelism of lines in an image. In other words, affine transformations preserve the basic shape of an object in an image while changing its position(translation), orientation(rotation), and scale.\n",
    "\n",
    "An affine transformation can be described by a 2x3 transformation matrix that includes elements for translation, rotation, and scaling. The transformation matrix is used to map the original image to a new transformed image, which is given by\n",
    "$$\n",
    "\\begin{equation*}\n",
    "    \\begin{aligned}\n",
    "        M & = \\left[\n",
    "            \\begin{array}{cc}\n",
    "                R & T\n",
    "            \\end{array}\n",
    "        \\right]\n",
    "    \\end{aligned}\n",
    "\\end{equation*}\n",
    "$$\n",
    "where $R$ is the 2x2 matrix and T is the 2x1 translation vector.\n",
    "\n",
    "In this task you should use affine transform to scaling the `src_img`.\n",
    "\n",
    "Steps:\n",
    "1. create a transformation matrix (dtype = float32) of the form\n",
    "$$\n",
    "\\begin{equation*}\n",
    "    \\begin{aligned}\n",
    "        M & = \\left[\n",
    "            \\begin{array}{ccc}\n",
    "                0.5 & 0 & 0 \\\\\n",
    "                0 & 0.5 & 0 \n",
    "            \\end{array}\n",
    "        \\right]\n",
    "    \\end{aligned}\n",
    "\\end{equation*}\n",
    "$$\n",
    "2. implement this matrix to `src_img`, use `bicubic` interpolation\n",
    "3. display `src_img`,`half_size`,and the result of this task (won't be tested)\n",
    "\n",
    "Variables:\n",
    "1. `M1` : transformation matrix\n",
    "2. `scaling_by_affine` : the result of scaling affine transformation, same size as `half_size`\n",
    "\n",
    "Hints:\n",
    "1. Use [numpy](https://numpy.org/doc/stable/reference/arrays.scalars.html#numpy.float32) to create matrix.\n",
    "2. Function [cv.warpAffine](https://docs.opencv.org/4.x/da/d54/group__imgproc__transform.html#ga0203d9ee5fcd28d40dbc4a1ea4451983) to implement affine transformation."
   ]
  },
  {
   "cell_type": "code",
   "execution_count": null,
   "metadata": {
    "nbgrader": {
     "grade": false,
     "grade_id": "cell-9ba4e1c572541a39",
     "locked": false,
     "schema_version": 3,
     "solution": true,
     "task": false
    }
   },
   "outputs": [],
   "source": [
    "### BEGIN SOLUTION\n",
    "\n",
    "### END SOLUTION"
   ]
  },
  {
   "cell_type": "code",
   "execution_count": null,
   "metadata": {
    "nbgrader": {
     "grade": true,
     "grade_id": "cell-1a90425319ecc02e",
     "locked": true,
     "points": 1,
     "schema_version": 3,
     "solution": false,
     "task": false
    }
   },
   "outputs": [],
   "source": [
    "def public_test2():\n",
    "    try:\n",
    "        M1\n",
    "    except NameError:\n",
    "        print(\"[Error] Variable M1 is not defined.\")\n",
    "        return False\n",
    "    \n",
    "    try:\n",
    "        M1.shape == (2,3)\n",
    "    except:\n",
    "        print(\"[Error] The shape of M1 is wrong.\")\n",
    "        return False\n",
    "    \n",
    "    try:\n",
    "        M1[0,0] == 0.5\n",
    "    except NameError:\n",
    "        print(\"[Error] The pixel (0,0) of M1 should be 0.5.\")\n",
    "        return False\n",
    "    \n",
    "    try:\n",
    "        scaling_by_affine\n",
    "    except NameError:\n",
    "        print(\"[Error] Variable scaling_by_affine is not defined.\")\n",
    "        return False\n",
    "\n",
    "    \n",
    "    return True\n",
    "\n",
    "assert public_test2()"
   ]
  },
  {
   "cell_type": "markdown",
   "metadata": {
    "nbgrader": {
     "grade": false,
     "grade_id": "cell-cf3a4066ca6b4c96",
     "locked": true,
     "schema_version": 3,
     "solution": false,
     "task": false
    }
   },
   "source": [
    "### Task 3: Translation\n",
    "Translation involves shifting an image in a particular direction without changing its size or shape. It is useful for correcting misaligned images or for creating image sequences that simulate motion. If you want to shift the image in the (x,y) direction with distance (tx,ty), you can create the transformation matrix M, which is given by\n",
    "$$\n",
    "\\begin{equation*}\n",
    "    \\begin{aligned}\n",
    "        M & = \\left[\n",
    "            \\begin{array}{ccc}\n",
    "                1 & 0 & t_x\\\\\n",
    "                0 & 1 & t_y\n",
    "            \\end{array}\n",
    "            \\right]\n",
    "    \\end{aligned}\n",
    "\\end{equation*}\n",
    "$$\n",
    "\n",
    "Steps:\n",
    "1. According to what you learn from task 2, implment the same affine transform on `src_img` without changing the size of output.\n",
    "2. create a shift matrix with (tx = 125, ty = 100, dtype = float32)\n",
    "3. shift the `src_img` using the shift matrix (affine transformation), use `bicubic` interpolation. You can also consider using only one transform matrix to achieve the three steps above.\n",
    "4. display the result (won't be tested)\n",
    "\n",
    "Variables:\n",
    "1. `M2` : shift matrix or matrix of overall transformation. \n",
    "2. `translation_result` : result image with same shape as `src_img`.\n",
    "\n",
    "Hints:\n",
    "1. The transformations can be binded together. In this case, we can use the following fomular:\n",
    "$$\n",
    "\\begin{equation*}\n",
    "    \\begin{aligned}\n",
    "        M_1 & = \\left[\n",
    "            \\begin{array}{cc}\n",
    "                R_1 & 0\n",
    "            \\end{array}\n",
    "            \\right] \\\\\n",
    "        M_2 & = \\left[\n",
    "            \\begin{array}{cc}\n",
    "                I & T_2\n",
    "            \\end{array}\n",
    "            \\right] \\\\\n",
    "        M_{overall} & =\\left[\n",
    "            \\begin{array}{cc}\n",
    "                R_1 & T_2 \n",
    "            \\end{array}\n",
    "            \\right]\n",
    "    \\end{aligned}\n",
    "\\end{equation*}\n",
    "$$\n",
    "the result of implementing $M_{overall}$ is the same with the result of implementing $M_1$ and $M_2$ in order."
   ]
  },
  {
   "cell_type": "code",
   "execution_count": null,
   "metadata": {
    "nbgrader": {
     "grade": false,
     "grade_id": "cell-fc478cdc30f3a0c9",
     "locked": false,
     "schema_version": 3,
     "solution": true,
     "task": false
    }
   },
   "outputs": [],
   "source": [
    "### BEGIN SOLUTION\n",
    "\n",
    "### END SOLUTION"
   ]
  },
  {
   "cell_type": "code",
   "execution_count": null,
   "metadata": {
    "nbgrader": {
     "grade": true,
     "grade_id": "cell-b2210a95943b260a",
     "locked": true,
     "points": 1,
     "schema_version": 3,
     "solution": false,
     "task": false
    }
   },
   "outputs": [],
   "source": [
    "def public_test3():\n",
    "    try:\n",
    "        M2\n",
    "    except NameError:\n",
    "        print(\"[Error] Variable M2 is not defined.\")\n",
    "        return False\n",
    "\n",
    "    try:\n",
    "        M2.shape == (2,3)\n",
    "    except:\n",
    "        print(\"[Error] The shape of M2 is wrong.\")\n",
    "        return False\n",
    "    \n",
    "    try:\n",
    "        M2[0,2] == 0.5\n",
    "    except NameError:\n",
    "        print(\"[Error] The pixel (0,2) of M2 should be 125.\")\n",
    "        return False\n",
    "    \n",
    "    try:\n",
    "        translation_result\n",
    "    except NameError:\n",
    "        print(\"[Error] Variable translation_result is not defined.\")\n",
    "        return False\n",
    "    return True\n",
    "\n",
    "assert public_test3()"
   ]
  },
  {
   "cell_type": "markdown",
   "metadata": {
    "nbgrader": {
     "grade": false,
     "grade_id": "cell-69c67d477368c23d",
     "locked": true,
     "schema_version": 3,
     "solution": false,
     "task": false
    }
   },
   "source": [
    "### Task 4: Rotation\n",
    "Rotation involves rotating an image by a certain angle around a specified point. It is commonly used for image alignment, correction of tilted images, or for creating special effects such as spiral patterns.If you want to rotate the image around the origin (left top corner) for an angle θ(counter clockwise), you can create the rotation matrix R, which is given by\n",
    "$$\n",
    "\\begin{equation*}\n",
    "    \\begin{aligned}\n",
    "        R & = \\left[\n",
    "            \\begin{array}{cc}\n",
    "                \\cos(\\theta) & -\\sin(\\theta) \\\\\n",
    "                \\sin(\\theta) & \\cos(\\theta) \n",
    "            \\end{array}\n",
    "            \\right]\n",
    "    \\end{aligned}\n",
    "\\end{equation*}\n",
    "$$\n",
    "If you want to rotate the image around arbitrary point, you can use the modified transformation matrix, which is given by\n",
    "$$\n",
    "\\begin{equation*}\n",
    "    \\begin{aligned}\n",
    "        M & = \\left[\n",
    "            \\begin{array}{ccc}\n",
    "                \\alpha & \\beta & (1-\\alpha) \\cdot x_{center} - \\beta \\cdot y_{center}\\\\\n",
    "                -\\beta & \\alpha & \\beta \\cdot x_{center} - (1-\\alpha) \\cdot y_{center} \n",
    "            \\end{array}\n",
    "            \\right]\n",
    "    \\end{aligned}\n",
    "\\end{equation*}\n",
    "$$\n",
    "where\n",
    "$$\n",
    "\\begin{equation*}\n",
    "    \\begin{aligned}\n",
    "        \\alpha & = scale \\cdot \\cos(\\theta) \\\\\n",
    "        \\beta & = scale \\cdot \\sin(\\theta)\n",
    "    \\end{aligned}\n",
    "\\end{equation*}\n",
    "$$\n",
    "\n",
    "Steps:\n",
    "1. create a rotation transformation matrix, which rotate the image around the image center for 45 degree without scaling\n",
    "2. implement the matrix on `translation_result`, use `bicubic` interpolation. \n",
    "3. display the result (won't be tested)\n",
    "\n",
    "Variables:\n",
    "1. `M3` : the rotation transformation matrix\n",
    "2. `rotation_result` : the result of rotation\n",
    "\n",
    "Hints:\n",
    "1. Good News! You can only use function [cv.getRotationMatrix2D](https://docs.opencv.org/4.x/da/d54/group__imgproc__transform.html#gafbbc470ce83812914a70abfb604f4326) to get modified transformation matrix instead of calculate it manually."
   ]
  },
  {
   "cell_type": "code",
   "execution_count": null,
   "metadata": {
    "nbgrader": {
     "grade": false,
     "grade_id": "cell-cc612e370d5c6309",
     "locked": false,
     "schema_version": 3,
     "solution": true,
     "task": false
    }
   },
   "outputs": [],
   "source": [
    "### BEGIN SOLUTION\n",
    "\n",
    "### END SOLUTION"
   ]
  },
  {
   "cell_type": "code",
   "execution_count": null,
   "metadata": {
    "nbgrader": {
     "grade": true,
     "grade_id": "cell-75e54ccc08de382b",
     "locked": true,
     "points": 1,
     "schema_version": 3,
     "solution": false,
     "task": false
    }
   },
   "outputs": [],
   "source": [
    "def public_test4():\n",
    "    try:\n",
    "        M3\n",
    "    except NameError:\n",
    "        print(\"[Error] Variable M3 is not defined.\")\n",
    "        return False\n",
    "\n",
    "    try:\n",
    "        M3.shape == (2,3)\n",
    "    except:\n",
    "        print(\"[Error] The shape of M3 is wrong.\")\n",
    "        return False\n",
    "    \n",
    "    try:\n",
    "        M3[0,0] == M3[0,1]\n",
    "    except NameError:\n",
    "        print(\"[Error] The pixel (0,0) of M3 should be the same as the pixel (0,1) of M3.\")\n",
    "        return False\n",
    "    \n",
    "    try:\n",
    "        rotation_result\n",
    "    except NameError:\n",
    "        print(\"[Error] Variable rotation_result is not defined.\")\n",
    "        return False\n",
    "    \n",
    "    return True\n",
    "\n",
    "assert public_test4()"
   ]
  },
  {
   "cell_type": "markdown",
   "metadata": {
    "nbgrader": {
     "grade": false,
     "grade_id": "cell-4594f0eb742a9c0f",
     "locked": true,
     "schema_version": 3,
     "solution": false,
     "task": false
    }
   },
   "source": [
    "### Task 5: arbitrary affine transform\n",
    "You can also define arbitrart affine transformation. To find the transformation matrix, three points from the input image and their corresponding locations in the output image is needed.\n",
    "\n",
    "Steps:\n",
    "1. load an image from `\"example/Arena_affine.jpg\"` \n",
    "2. create an affine transform matrix between these three points\n",
    "```\n",
    "(50,40) -> (0,0)\n",
    "(400,30) -> (521,0)\n",
    "(40,470) -> (0,555)\n",
    "```\n",
    "3. implement this matrix on the loaded image, use `bicubic` interpolation. \n",
    "4. display the result (won't be tested)\n",
    "\n",
    "Variables:\n",
    "1. `affine_src` : loaded image of step 1\n",
    "2. `M4` : affine tranformation matrix\n",
    "3. `affine_result` : result of step 3\n",
    "\n",
    "Hints:\n",
    "1. Function [cv.getAffineTransform](https://docs.opencv.org/4.x/da/d54/group__imgproc__transform.html#ga47069038267385913c61334e3d6af2e0) to calculates an affine transform from three pairs of the corresponding points."
   ]
  },
  {
   "cell_type": "code",
   "execution_count": null,
   "metadata": {
    "nbgrader": {
     "grade": false,
     "grade_id": "cell-8efe19073da6d3f3",
     "locked": false,
     "schema_version": 3,
     "solution": true,
     "task": false
    }
   },
   "outputs": [],
   "source": [
    "### BEGIN SOLUTION\n",
    "\n",
    "### END SOLUTION"
   ]
  },
  {
   "cell_type": "code",
   "execution_count": null,
   "metadata": {
    "nbgrader": {
     "grade": true,
     "grade_id": "cell-41889bb2e9268a25",
     "locked": true,
     "points": 1,
     "schema_version": 3,
     "solution": false,
     "task": false
    }
   },
   "outputs": [],
   "source": [
    "def public_test5():\n",
    "    try:\n",
    "        M4\n",
    "    except NameError:\n",
    "        print(\"[Error] Variable M4 is not defined.\")\n",
    "        return False\n",
    "\n",
    "    try:\n",
    "        M4.shape == (2,3)\n",
    "    except:\n",
    "        print(\"[Error] The shape of M4 is wrong.\")\n",
    "        return False\n",
    "\n",
    "    try:\n",
    "        affine_src\n",
    "    except NameError:\n",
    "        print(\"[Error] Variable affine_src is not defined.\")\n",
    "        return False\n",
    "    \n",
    "    try:\n",
    "        affine_result\n",
    "    except NameError:\n",
    "        print(\"[Error] Variable affine_result is not defined.\")\n",
    "        return False\n",
    "    return True\n",
    "\n",
    "assert public_test5()"
   ]
  },
  {
   "cell_type": "markdown",
   "metadata": {
    "nbgrader": {
     "grade": false,
     "grade_id": "cell-d4ca00be82b9ccb1",
     "locked": true,
     "schema_version": 3,
     "solution": false,
     "task": false
    }
   },
   "source": [
    "### Task 6: Perspective Transformation\n",
    "Perspective transformation is a type of geometric transformation that maps a region of an image onto a new plane to change its perspective. Unlike affine transformations, perspective transformations can change the shape of an object in an image, making it appear to be viewed from a different angle or distance. To find this transformation matrix, you need 4 points on the input image and corresponding points on the output image. Among these 4 points, 3 of them should not be collinear.\n",
    "\n",
    "Steps:\n",
    "1. load an image from `\"example/Arena_perspective.jpg\"` \n",
    "2. create an perspective transform matrix between these four points\n",
    "```\n",
    "(50,100) -> (0,0)\n",
    "(470,110) -> (521,0)\n",
    "(70,510) -> (0,555)\n",
    "(340,390) -> (521,555)\n",
    "```\n",
    "3. implement this matrix on the loaded image, use `bicubic` interpolation. \n",
    "4. display the result (won't be tested)\n",
    "\n",
    "Variables:\n",
    "1. `M5` : perspective transform matrix\n",
    "2. `perspective_result` : result of step 3\n",
    "\n",
    "Hints:\n",
    "1. Function [cv.getPerspectiveTransform](https://docs.opencv.org/4.x/da/d54/group__imgproc__transform.html#gae66ba39ba2e47dd0750555c7e986ab85) to calculates an perspective transform from four pairs of the corresponding points.\n",
    "2. Function [cv.warpPerspective](https://docs.opencv.org/4.x/da/d54/group__imgproc__transform.html#gaf73673a7e8e18ec6963e3774e6a94b87) to implement perspective transformation"
   ]
  },
  {
   "cell_type": "code",
   "execution_count": null,
   "metadata": {
    "nbgrader": {
     "grade": false,
     "grade_id": "cell-8027a6aa6e92cf38",
     "locked": false,
     "schema_version": 3,
     "solution": true,
     "task": false
    }
   },
   "outputs": [],
   "source": [
    "### BEGIN SOLUTION\n",
    "\n",
    "### END SOLUTION"
   ]
  },
  {
   "cell_type": "code",
   "execution_count": null,
   "metadata": {
    "nbgrader": {
     "grade": true,
     "grade_id": "cell-a0f7c4c69f97b6e4",
     "locked": true,
     "points": 1,
     "schema_version": 3,
     "solution": false,
     "task": false
    }
   },
   "outputs": [],
   "source": [
    "def public_test6():\n",
    "    try:\n",
    "        M5\n",
    "    except NameError:\n",
    "        print(\"[Error] Variable M5 is not defined.\")\n",
    "        return False\n",
    "\n",
    "    try:\n",
    "        M5.shape == (3,3)\n",
    "    except:\n",
    "        print(\"[Error] The shape of M5 is wrong.\")\n",
    "        return False\n",
    "    \n",
    "    try:\n",
    "        perspective_src\n",
    "    except NameError:\n",
    "        print(\"[Error] Variable perspective_src is not defined.\")\n",
    "        return False\n",
    "    \n",
    "    try:\n",
    "        perspective_result\n",
    "    except NameError:\n",
    "        print(\"[Error] Variable perspective_result is not defined.\")\n",
    "        return False\n",
    "    return True\n",
    "\n",
    "assert public_test6()"
   ]
  }
 ],
 "metadata": {
  "celltoolbar": "Create Assignment",
  "kernelspec": {
   "display_name": "Python 3 (ipykernel)",
   "language": "python",
   "name": "python3"
  },
  "language_info": {
   "codemirror_mode": {
    "name": "ipython",
    "version": 3
   },
   "file_extension": ".py",
   "mimetype": "text/x-python",
   "name": "python",
   "nbconvert_exporter": "python",
   "pygments_lexer": "ipython3",
   "version": "3.10.9"
  },
  "vscode": {
   "interpreter": {
    "hash": "458f205ffd5e40825905a0f61668a237cc8567d50e3d1f4fd1f4b32d6a4b3c24"
   }
  }
 },
 "nbformat": 4,
 "nbformat_minor": 2
}
